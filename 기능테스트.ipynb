{
 "cells": [
  {
   "cell_type": "code",
   "execution_count": 1,
   "metadata": {},
   "outputs": [],
   "source": [
    "from dezero import Variable\n",
    "import dezero.functions as F\n",
    "import numpy as np\n",
    "import dezero.layers as L"
   ]
  },
  {
   "cell_type": "code",
   "execution_count": 2,
   "metadata": {},
   "outputs": [
    {
     "name": "stdout",
     "output_type": "stream",
     "text": [
      "variable(0.8165178492839196)\n",
      "variable(0.8165178492839196)\n",
      "variable(0.24990280802148895)\n",
      "variable(0.24990280802148895)\n",
      "variable(0.24609876581126014)\n",
      "variable(0.24609876581126014)\n",
      "variable(0.2372159081431807)\n",
      "variable(0.2372159081431807)\n",
      "variable(0.20793216413350177)\n",
      "variable(0.20793216413350177)\n",
      "variable(0.12311905720649349)\n",
      "variable(0.12311905720649349)\n",
      "variable(0.07888166506355149)\n",
      "variable(0.07888166506355149)\n",
      "variable(0.07655073683421633)\n",
      "variable(0.07655073683421633)\n",
      "variable(0.07637803086238223)\n",
      "variable(0.07637803086238223)\n",
      "variable(0.07618764131185574)\n",
      "variable(0.07618764131185574)\n"
     ]
    }
   ],
   "source": [
    "np.random.seed(0)\n",
    "x = np.random.rand(100, 1)\n",
    "y = np.sin(2 * np.pi * x) + np.random.rand(100, 1)\n",
    "\n",
    "I1 = L.Linear(10) # 출력 크기 지정\n",
    "I2 = L.Linear(1)\n",
    "\n",
    "def predict(x) :\n",
    "    y = I1(x)\n",
    "    y = F.sigmoid_simple(y)\n",
    "    y = I2(y)\n",
    "    return y\n",
    "\n",
    "lr = 0.2\n",
    "iters = 10000\n",
    "\n",
    "for i in range(iters) :\n",
    "    y_pred = predict(x)\n",
    "    loss = F.mean_squared_error(y, y_pred)\n",
    "    I1.cleargrads()\n",
    "    I2.cleargrads()\n",
    "    loss.backward()\n",
    "    \n",
    "    for l in [I1, I2] :\n",
    "        for p in l.params() :\n",
    "            p.data -= lr * p.grad.data\n",
    "        \n",
    "        if i % 1000 == 0 :\n",
    "            print(loss)     \n"
   ]
  }
 ],
 "metadata": {
  "kernelspec": {
   "display_name": "base",
   "language": "python",
   "name": "python3"
  },
  "language_info": {
   "codemirror_mode": {
    "name": "ipython",
    "version": 3
   },
   "file_extension": ".py",
   "mimetype": "text/x-python",
   "name": "python",
   "nbconvert_exporter": "python",
   "pygments_lexer": "ipython3",
   "version": "3.9.12"
  },
  "orig_nbformat": 4
 },
 "nbformat": 4,
 "nbformat_minor": 2
}
