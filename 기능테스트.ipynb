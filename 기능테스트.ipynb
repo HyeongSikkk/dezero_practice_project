{
 "cells": [
  {
   "cell_type": "code",
   "execution_count": 1,
   "metadata": {},
   "outputs": [],
   "source": [
    "#from dezero import utils\n",
    "from steps.step27 import *\n",
    "import numpy as np"
   ]
  },
  {
   "cell_type": "code",
   "execution_count": 2,
   "metadata": {},
   "outputs": [],
   "source": [
    "def rosenbrock(x0, x1) :\n",
    "    y = 100 * (x1 - x0 ** 2) ** 2 + (1 - x0) ** 2\n",
    "    return y"
   ]
  },
  {
   "cell_type": "code",
   "execution_count": 16,
   "metadata": {},
   "outputs": [],
   "source": [
    "def narak(effect = 0.00001, tries = 1000, x0 = 0.0, x1 = 2.0) :\n",
    "    for _ in range(tries) :\n",
    "        a = Variable(np.array(x0))\n",
    "        b = Variable(np.array(x1))\n",
    "        \n",
    "        y = rosenbrock(a, b)\n",
    "        y.backward()\n",
    "        x0 -= effect * a.grad\n",
    "        x1 -= effect * b.grad\n",
    "    return x0, x1"
   ]
  },
  {
   "cell_type": "code",
   "execution_count": 17,
   "metadata": {},
   "outputs": [
    {
     "data": {
      "text/plain": [
       "(0.10754376472441204, 0.2743423072833869)"
      ]
     },
     "execution_count": 17,
     "metadata": {},
     "output_type": "execute_result"
    }
   ],
   "source": [
    "narak()"
   ]
  },
  {
   "cell_type": "code",
   "execution_count": 3,
   "metadata": {},
   "outputs": [
    {
     "name": "stdout",
     "output_type": "stream",
     "text": [
      "-2.0 400.0\n"
     ]
    }
   ],
   "source": [
    "x0 = Variable(np.array(0.0))\n",
    "x1 = Variable(np.array(2.0))\n",
    "lr = 0.001\n",
    "iters = 1000\n",
    "\n",
    "for i in range(iters) :\n",
    "    print(x0, x1)\n",
    "    \n",
    "    y = rosenbrock(x0, x1)\n",
    "    \n",
    "    x0.clearged()\n",
    "    x1.clearged()\n",
    "    y.backward()\n",
    "    \n",
    "    x0.data -= lr * x0.grad\n",
    "    x1.data -= lr * x1.grad"
   ]
  }
 ],
 "metadata": {
  "kernelspec": {
   "display_name": "base",
   "language": "python",
   "name": "python3"
  },
  "language_info": {
   "codemirror_mode": {
    "name": "ipython",
    "version": 3
   },
   "file_extension": ".py",
   "mimetype": "text/x-python",
   "name": "python",
   "nbconvert_exporter": "python",
   "pygments_lexer": "ipython3",
   "version": "3.9.12"
  },
  "orig_nbformat": 4
 },
 "nbformat": 4,
 "nbformat_minor": 2
}
