{
 "cells": [
  {
   "cell_type": "code",
   "execution_count": 1,
   "metadata": {},
   "outputs": [],
   "source": [
    "class Variable :\n",
    "    def __init__(self, data) :\n",
    "        self.data = data\n",
    "        self.grad = None\n",
    "        self.creator = None\n",
    "    \n",
    "    def set_creator(self, func) :\n",
    "        self.creator = func\n",
    "    \n",
    "    def backward(self) :\n",
    "        funcs = [self.creator]\n",
    "        \n",
    "        while funcs :\n",
    "            f = funcs.pop()\n",
    "            x, y = f.input, f.output\n",
    "            x.grad = f.backward(y.grad)\n",
    "            \n",
    "            if x.creator != None :\n",
    "                funcs.append(x.creator)\n",
    "            \n",
    "        \n",
    "class Function :\n",
    "    def __call__(self, input) :\n",
    "        x = input.data\n",
    "        y = self.forward(x) # 구체적인 계산은 forward에서 이루어짐\n",
    "        output = Variable(y)\n",
    "        # 출력값에 출처 표기\n",
    "        output.set_creator(self)\n",
    "        \n",
    "        # 함수 입출력 변수 표기\n",
    "        self.input = input\n",
    "        self.output = output\n",
    "        return output\n",
    "    \n",
    "    def forward(self, x) :\n",
    "        raise NotImplementedError()\n",
    "    \n",
    "    def backward(self, gy) :\n",
    "        raise NotImplementedError()\n",
    "        \n",
    "\n",
    "class Square(Function) :\n",
    "    def forward(self, x) :\n",
    "        return x ** 2\n",
    "    \n",
    "    def backward(self, gy) :\n",
    "        x = self.input.data\n",
    "        gx = 2 * x * gy\n",
    "        return gx\n",
    "\n",
    "def square(x) :\n",
    "    f = Square()\n",
    "    return f(x)\n",
    "\n",
    "class Exp(Function) :\n",
    "    def forward(self, x) :\n",
    "        return np.exp(x)\n",
    "    \n",
    "    def backward(self, gy) :\n",
    "        x = self.input.data\n",
    "        gx = np.exp(x) * gy\n",
    "        return gx\n",
    "\n",
    "def exp(x) :\n",
    "    f = Exp()\n",
    "    return f(x)\n",
    "\n",
    "def numerical_diff(f, x, eps = 1e-4) :\n",
    "    x0 = Variable(x.data - eps)\n",
    "    x1 = Variable(x.data + eps)\n",
    "    y0 = f(x0)\n",
    "    y1 = f(x1)\n",
    "    return (y1.data - y0.data) / (2*eps)"
   ]
  },
  {
   "cell_type": "code",
   "execution_count": 2,
   "metadata": {},
   "outputs": [
    {
     "name": "stdout",
     "output_type": "stream",
     "text": [
      "3.297442541400256\n"
     ]
    }
   ],
   "source": [
    "import numpy as np\n",
    "\n",
    "A = Square()\n",
    "B = Exp()\n",
    "C = Square()\n",
    "\n",
    "x = Variable(np.array(0.5))\n",
    "a = A(x)\n",
    "b = B(a)\n",
    "y = C(b)\n",
    "\n",
    "y.grad = np.array(1.0)\n",
    "y.backward()\n",
    "print(x.grad)"
   ]
  },
  {
   "cell_type": "code",
   "execution_count": 40,
   "metadata": {},
   "outputs": [
    {
     "data": {
      "text/plain": [
       "<__main__.Variable at 0x2deba4d4a90>"
      ]
     },
     "execution_count": 40,
     "metadata": {},
     "output_type": "execute_result"
    }
   ],
   "source": [
    "y.creator.input"
   ]
  }
 ],
 "metadata": {
  "kernelspec": {
   "display_name": "Python 3",
   "language": "python",
   "name": "python3"
  },
  "language_info": {
   "codemirror_mode": {
    "name": "ipython",
    "version": 3
   },
   "file_extension": ".py",
   "mimetype": "text/x-python",
   "name": "python",
   "nbconvert_exporter": "python",
   "pygments_lexer": "ipython3",
   "version": "3.11.6"
  }
 },
 "nbformat": 4,
 "nbformat_minor": 2
}
