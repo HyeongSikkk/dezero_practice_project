{
 "cells": [
  {
   "cell_type": "code",
   "execution_count": 3,
   "metadata": {},
   "outputs": [],
   "source": [
    "import numpy as np\n",
    "\n",
    "class Variable :\n",
    "    def __init__(self, data) :\n",
    "        self.data = data\n",
    "        self.grad = None\n",
    "        self.creator = None\n",
    "    \n",
    "    def set_creator(self, func) :\n",
    "        self.creator = func\n",
    "    \n",
    "    def backward(self) :\n",
    "        funcs = [self.creator]\n",
    "        \n",
    "        while funcs :\n",
    "            f = funcs.pop()\n",
    "            x, y = f.input, f.output\n",
    "            x.grad = f.backward(y.grad)\n",
    "            \n",
    "            if x.creator != None :\n",
    "                funcs.append(x.creator)\n",
    "            \n",
    "        \n",
    "class Function :\n",
    "    def __call__(self, inputs) :\n",
    "        xs = [x.data for x in inputs]\n",
    "        ys = self.forward(xs) # 구체적인 계산은 forward에서 이루어짐\n",
    "        outputs = [Variable(as_array(y.data)) for y in ys]\n",
    "        # 출력값에 출처 표기\n",
    "        for output in outputs :\n",
    "            output.set_creator(self)\n",
    "        \n",
    "        # 함수 입출력 변수 표기\n",
    "        self.inputs = inputs\n",
    "        self.outputs = outputs\n",
    "        return outputs\n",
    "    \n",
    "    def forward(self, xs) :\n",
    "        raise NotImplementedError()\n",
    "    \n",
    "    def backward(self, gys) :\n",
    "        raise NotImplementedError()\n",
    "        \n",
    "\n",
    "class Square(Function) :\n",
    "    def forward(self, x) :\n",
    "        return x ** 2\n",
    "    \n",
    "    def backward(self, gy) :\n",
    "        x = self.input.data\n",
    "        gx = 2 * x * gy\n",
    "        return gx\n",
    "\n",
    "def square(x) :\n",
    "    f = Square()\n",
    "    return f(x)\n",
    "\n",
    "class Exp(Function) :\n",
    "    def forward(self, x) :\n",
    "        return np.exp(x)\n",
    "    \n",
    "    def backward(self, gy) :\n",
    "        x = self.input.data\n",
    "        gx = np.exp(x) * gy\n",
    "        return gx\n",
    "\n",
    "def exp(x) :\n",
    "    f = Exp()\n",
    "    return f(x)\n",
    "\n",
    "class Add(Function) :\n",
    "    def forward(self, xs) :\n",
    "        x0, x1 = xs\n",
    "        y = x0 + x1\n",
    "        return (y,)\n",
    "\n",
    "def add(xs) :\n",
    "    f = Add()\n",
    "    return f(xs)\n",
    "\n",
    "def numerical_diff(f, x, eps = 1e-4) :\n",
    "    x0 = Variable(x.data - eps)\n",
    "    x1 = Variable(x.data + eps)\n",
    "    y0 = f(x0)\n",
    "    y1 = f(x1)\n",
    "    return (y1.data - y0.data) / (2*eps)\n",
    "\n",
    "def as_array(x) :\n",
    "    if np.isscalar(x) :\n",
    "        return np.array(x)\n",
    "    return x"
   ]
  },
  {
   "cell_type": "code",
   "execution_count": 5,
   "metadata": {},
   "outputs": [
    {
     "name": "stdout",
     "output_type": "stream",
     "text": [
      "[<__main__.Variable object at 0x00000246A665AAD0>]\n",
      "5\n"
     ]
    }
   ],
   "source": [
    "xs = [Variable(np.array(2)), Variable(np.array(3))]\n",
    "ys = add(xs)\n",
    "y = ys[0]\n",
    "print(y.data)"
   ]
  },
  {
   "cell_type": "code",
   "execution_count": 8,
   "metadata": {},
   "outputs": [
    {
     "data": {
      "text/plain": [
       "True"
      ]
     },
     "execution_count": 8,
     "metadata": {},
     "output_type": "execute_result"
    }
   ],
   "source": [
    "np.isscalar(5)"
   ]
  }
 ],
 "metadata": {
  "kernelspec": {
   "display_name": "Python 3",
   "language": "python",
   "name": "python3"
  },
  "language_info": {
   "codemirror_mode": {
    "name": "ipython",
    "version": 3
   },
   "file_extension": ".py",
   "mimetype": "text/x-python",
   "name": "python",
   "nbconvert_exporter": "python",
   "pygments_lexer": "ipython3",
   "version": "3.11.8"
  }
 },
 "nbformat": 4,
 "nbformat_minor": 2
}
