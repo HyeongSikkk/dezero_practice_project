{
 "cells": [
  {
   "cell_type": "code",
   "execution_count": 13,
   "metadata": {},
   "outputs": [],
   "source": [
    "class Variable :\n",
    "    def __init__(self, data) :\n",
    "        self.data = data\n",
    "        \n",
    "class Function :\n",
    "    def __call__(self, input) :\n",
    "        x = input.data\n",
    "        y = self.forward(x) # 구체적인 계산은 forward에서 이루어짐\n",
    "        output = Variable(y)\n",
    "        return output\n",
    "    \n",
    "    def forward(self, x) :\n",
    "        raise NotImplementedError()\n",
    "\n",
    "class Square(Function) :\n",
    "    def forward(self, x) :\n",
    "        return x ** 2"
   ]
  },
  {
   "cell_type": "code",
   "execution_count": 14,
   "metadata": {},
   "outputs": [
    {
     "name": "stdout",
     "output_type": "stream",
     "text": [
      "<class '__main__.Variable'>\n",
      "[16 25]\n"
     ]
    }
   ],
   "source": [
    "import numpy as np\n",
    "v = Variable(np.array([4, 5]))\n",
    "f = Square()\n",
    "y = f(v)\n",
    "print(type(y))\n",
    "print(y.data)"
   ]
  },
  {
   "cell_type": "code",
   "execution_count": 5,
   "metadata": {},
   "outputs": [
    {
     "name": "stdout",
     "output_type": "stream",
     "text": [
      "<__main__.Variable object at 0x000002110A99FA10>\n"
     ]
    }
   ],
   "source": []
  }
 ],
 "metadata": {
  "kernelspec": {
   "display_name": "Python 3",
   "language": "python",
   "name": "python3"
  },
  "language_info": {
   "codemirror_mode": {
    "name": "ipython",
    "version": 3
   },
   "file_extension": ".py",
   "mimetype": "text/x-python",
   "name": "python",
   "nbconvert_exporter": "python",
   "pygments_lexer": "ipython3",
   "version": "3.11.8"
  }
 },
 "nbformat": 4,
 "nbformat_minor": 2
}
