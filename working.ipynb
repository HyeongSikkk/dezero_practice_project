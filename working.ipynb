{
 "cells": [
  {
   "cell_type": "code",
   "execution_count": 21,
   "metadata": {},
   "outputs": [],
   "source": [
    "class Variable :\n",
    "    def __init__(self, data) :\n",
    "        self.data = data\n",
    "        self.grad = None\n",
    "        \n",
    "class Function :\n",
    "    def __call__(self, input) :\n",
    "        x = input.data\n",
    "        y = self.forward(x) # 구체적인 계산은 forward에서 이루어짐\n",
    "        output = Variable(y)\n",
    "        self.input = input\n",
    "        return output\n",
    "    \n",
    "    def forward(self, x) :\n",
    "        raise NotImplementedError()\n",
    "    \n",
    "    def backward(self, gy) :\n",
    "        raise NotImplementedError()\n",
    "        \n",
    "\n",
    "class Square(Function) :\n",
    "    def forward(self, x) :\n",
    "        return x ** 2\n",
    "    \n",
    "    def backward(self, gy) :\n",
    "        x = self.input.data\n",
    "        gx = 2 * x * gy\n",
    "        return gx\n",
    "\n",
    "class Exp(Function) :\n",
    "    def forward(self, x) :\n",
    "        return np.exp(x)\n",
    "    \n",
    "    def backward(self, gy) :\n",
    "        x = self.input.data\n",
    "        gx = np.exp(x) * gy\n",
    "        return gx\n",
    "\n",
    "def numerical_diff(f, x, eps = 1e-4) :\n",
    "    x0 = Variable(x.data - eps)\n",
    "    x1 = Variable(x.data + eps)\n",
    "    y0 = f(x0)\n",
    "    y1 = f(x1)\n",
    "    return (y1.data - y0.data) / (2*eps)"
   ]
  },
  {
   "cell_type": "code",
   "execution_count": 35,
   "metadata": {},
   "outputs": [
    {
     "name": "stdout",
     "output_type": "stream",
     "text": [
      "3.297442541400256\n"
     ]
    }
   ],
   "source": [
    "import numpy as np\n",
    "\n",
    "def f(x) :\n",
    "    A = Square()\n",
    "    B = Exp()\n",
    "    C = Square()\n",
    "    return C(B(A(x)))\n",
    "\n",
    "x = Variable(np.array(0.5))\n",
    "A = Square()\n",
    "B = Exp()\n",
    "C = Square()\n",
    "y = A(B(C(x)))\n",
    "y.grad = np.array(1.0)\n",
    "print(A.backward(B.backward(C.backward(y.grad))))"
   ]
  }
 ],
 "metadata": {
  "kernelspec": {
   "display_name": "Python 3",
   "language": "python",
   "name": "python3"
  },
  "language_info": {
   "codemirror_mode": {
    "name": "ipython",
    "version": 3
   },
   "file_extension": ".py",
   "mimetype": "text/x-python",
   "name": "python",
   "nbconvert_exporter": "python",
   "pygments_lexer": "ipython3",
   "version": "3.11.8"
  }
 },
 "nbformat": 4,
 "nbformat_minor": 2
}
