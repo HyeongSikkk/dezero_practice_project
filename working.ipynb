{
 "cells": [
  {
   "cell_type": "code",
   "execution_count": 14,
   "metadata": {},
   "outputs": [],
   "source": [
    "class Variable :\n",
    "    def __init__(self, data) :\n",
    "        self.data = data\n",
    "        \n",
    "class Function :\n",
    "    def __call__(self, input) :\n",
    "        x = input.data\n",
    "        self.input = x\n",
    "        y = self.forward(x) # 구체적인 계산은 forward에서 이루어짐\n",
    "        output = Variable(y)\n",
    "        return output\n",
    "    \n",
    "    def forward(self, x) :\n",
    "        raise NotImplementedError()\n",
    "        \n",
    "\n",
    "class Square(Function) :\n",
    "    def forward(self, x) :\n",
    "        return x ** 2\n",
    "\n",
    "class Exp(Function) :\n",
    "    def forward(self, x) :\n",
    "        return np.exp(x)\n",
    "\n",
    "def numerical_diff(f, x, eps = 1e-4) :\n",
    "    x0 = Variable(x.data - eps)\n",
    "    x1 = Variable(x.data + eps)\n",
    "    y0 = f(x0)\n",
    "    y1 = f(x1)\n",
    "    return (y1.data - y0.data) / (2*eps)"
   ]
  },
  {
   "cell_type": "code",
   "execution_count": 17,
   "metadata": {},
   "outputs": [
    {
     "name": "stdout",
     "output_type": "stream",
     "text": [
      "3.2974426293330694\n"
     ]
    }
   ],
   "source": [
    "import numpy as np\n",
    "\n",
    "def f(x) :\n",
    "    A = Square()\n",
    "    B = Exp()\n",
    "    C = Square()\n",
    "    return C(B(A(x)))\n",
    "\n",
    "x = Variable(np.array(0.5))\n",
    "dy = numerical_diff(f, x)\n",
    "print(dy)"
   ]
  }
 ],
 "metadata": {
  "kernelspec": {
   "display_name": "Python 3",
   "language": "python",
   "name": "python3"
  },
  "language_info": {
   "codemirror_mode": {
    "name": "ipython",
    "version": 3
   },
   "file_extension": ".py",
   "mimetype": "text/x-python",
   "name": "python",
   "nbconvert_exporter": "python",
   "pygments_lexer": "ipython3",
   "version": "3.11.8"
  }
 },
 "nbformat": 4,
 "nbformat_minor": 2
}
